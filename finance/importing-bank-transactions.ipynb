{
 "cells": [
  {
   "cell_type": "markdown",
   "metadata": {},
   "source": [
    "# Importing bank transactions in Python using Pandas\n",
    "\n",
    "If you want to analyze your expenses in Python, the first step is importing your financial transactions.\n",
    "\n",
    "From your bank account you should be able to download a file containing all transactions in a period. The format of the file is often one of the following:\n",
    "\n",
    "* an Excel file\n",
    "* a CSV file\n",
    "* a PDF file\n",
    "* a TXT file\n",
    "* a QIF file\n",
    "\n",
    "What's the best extension? If you want to import transactions flawlessly in a DataFrame, you should download a CSV file; if this extension is not available, download the Excel one; if this extension is not available, download the QIF file; if this extension is not available, download the TXT file. Do not download the PDF file.\n",
    "\n",
    "Filter your transaction using the largest period available and download the file.\n",
    "\n",
    "## If you download a CSV file\n",
    "\n",
    "The `read_csv` function allows you to read a CSV file into DataFrame.\n",
    "\n",
    "Let's see some examples."
   ]
  },
  {
   "cell_type": "code",
   "execution_count": 12,
   "metadata": {},
   "outputs": [
    {
     "name": "stdout",
     "output_type": "stream",
     "text": [
      "         date                        description   amount\n",
      "0  2024-04-04  My Online Shop XYZ - Invoice 1234  -123.45\n",
      "1  2024-04-03  My Online Shop ABC - Invoice 5678   -54.32\n",
      "2  2024-04-02           My Employer - April 2024  1234.56\n"
     ]
    }
   ],
   "source": [
    "import pandas as pd\n",
    "\n",
    "transactions = pd.read_csv(filepath_or_buffer=\"transactions-files/01.csv\")\n",
    "\n",
    "print(transactions)"
   ]
  },
  {
   "cell_type": "markdown",
   "metadata": {},
   "source": [
    "Here we have a rather correctly formatted CSV file and we have only to pass the argument `filepath_or_buffer` to the `read_csv` function to indicate the path of the CSV file to read. Our DataFrame is ready to be analyzed.\n",
    "\n",
    "What if the file need some cleaning? Let's see another example."
   ]
  },
  {
   "cell_type": "code",
   "execution_count": 13,
   "metadata": {},
   "outputs": [
    {
     "name": "stdout",
     "output_type": "stream",
     "text": [
      "   transaction date transaction description detailed description amount ($)\n",
      "0          20240404      My Online Shop XYZ         Invoice 1234    -123.45\n",
      "1          20240403      My Online Shop ABC         Invoice 5678     -54.32\n",
      "2          20240402             My Employer           April 2024   1,234.56\n"
     ]
    }
   ],
   "source": [
    "transactions = pd.read_csv(filepath_or_buffer=\"transactions-files/02.csv\")\n",
    "\n",
    "print(transactions)"
   ]
  },
  {
   "cell_type": "markdown",
   "metadata": {},
   "source": [
    "Here we can see different \"problems\":\n",
    "* dates are awkwardly formatted\n",
    "* descriptions are spread in two columns, \"transaction description\" and \"detailed description\"\n",
    "* amounts have a thousands separator (\",\")\n",
    "\n",
    "We need to \"clean\" this data. How to do that?\n",
    "\n",
    "### Parse non-standard dates\n",
    "\n",
    "To parse dates in this format, we need to pass two arguments to the `read_csv` function, `date_format` (the format to use for parsing dates) and `parse_dates` (the list of columns to parse)."
   ]
  },
  {
   "cell_type": "code",
   "execution_count": 19,
   "metadata": {},
   "outputs": [
    {
     "name": "stdout",
     "output_type": "stream",
     "text": [
      "  transaction date transaction description detailed description amount ($)\n",
      "0       2024-04-04      My Online Shop XYZ         Invoice 1234    -123.45\n",
      "1       2024-04-03      My Online Shop ABC         Invoice 5678     -54.32\n",
      "2       2024-04-02             My Employer           April 2024   1,234.56\n"
     ]
    }
   ],
   "source": [
    "transactions = pd.read_csv(filepath_or_buffer=\"transactions-files/02.csv\",parse_dates=[0],date_format=\"%Y%m%d\")\n",
    "\n",
    "print(transactions)"
   ]
  },
  {
   "cell_type": "markdown",
   "metadata": {},
   "source": [
    "The dates are parsed correctly.\n",
    "\n",
    "### Concatenate multiple description columns\n",
    "\n",
    "To concatenate multiple columns we can replace the column \"transaction description\" with the concatenation of the columns \"transaction description\" and \"detailed description\" and remove the column  \"detailed description\"."
   ]
  },
  {
   "cell_type": "code",
   "execution_count": 26,
   "metadata": {},
   "outputs": [
    {
     "name": "stdout",
     "output_type": "stream",
     "text": [
      "  transaction date            transaction description amount ($)\n",
      "0       2024-04-04  My Online Shop XYZ - Invoice 1234    -123.45\n",
      "1       2024-04-03  My Online Shop ABC - Invoice 5678     -54.32\n",
      "2       2024-04-02           My Employer - April 2024   1,234.56\n"
     ]
    }
   ],
   "source": [
    "transactions = pd.read_csv(filepath_or_buffer=\"transactions-files/02.csv\",parse_dates=[0],date_format=\"%Y%m%d\")\n",
    "\n",
    "# concatenate descriptions columns\n",
    "transactions[\"transaction description\"]=transactions[\"transaction description\"]+\" - \"+transactions[\"detailed description\"]\n",
    "transactions.drop(\"detailed description\", axis=1, inplace=True)\n",
    "\n",
    "print(transactions)"
   ]
  },
  {
   "cell_type": "markdown",
   "metadata": {},
   "source": [
    "We now have a single description column.\n",
    "\n",
    "### Parse amounts with the thousand separator\n",
    "\n",
    "To parse amounts correctly we have to use another argument of the `read_csv` function, `thousands`."
   ]
  },
  {
   "cell_type": "code",
   "execution_count": 27,
   "metadata": {},
   "outputs": [
    {
     "name": "stdout",
     "output_type": "stream",
     "text": [
      "  transaction date            transaction description  amount ($)\n",
      "0       2024-04-04  My Online Shop XYZ - Invoice 1234     -123.45\n",
      "1       2024-04-03  My Online Shop ABC - Invoice 5678      -54.32\n",
      "2       2024-04-02           My Employer - April 2024     1234.56\n"
     ]
    }
   ],
   "source": [
    "transactions = pd.read_csv(filepath_or_buffer=\"transactions-files/02.csv\",parse_dates=[0],date_format=\"%Y%m%d\",thousands=\",\")\n",
    "\n",
    "# concatenate descriptions columns\n",
    "transactions[\"transaction description\"]=transactions[\"transaction description\"]+\" - \"+transactions[\"detailed description\"]\n",
    "transactions.drop(\"detailed description\", axis=1, inplace=True)\n",
    "\n",
    "print(transactions)"
   ]
  },
  {
   "cell_type": "markdown",
   "metadata": {},
   "source": [
    "Amounts are now parsed correctly.\n",
    "\n",
    "What if we want to rename headers to simplify DataFrame manipulations?"
   ]
  },
  {
   "cell_type": "code",
   "execution_count": 28,
   "metadata": {},
   "outputs": [
    {
     "name": "stdout",
     "output_type": "stream",
     "text": [
      "        date                        description   amount\n",
      "0 2024-04-04  My Online Shop XYZ - Invoice 1234  -123.45\n",
      "1 2024-04-03  My Online Shop ABC - Invoice 5678   -54.32\n",
      "2 2024-04-02           My Employer - April 2024  1234.56\n"
     ]
    }
   ],
   "source": [
    "transactions = pd.read_csv(filepath_or_buffer=\"transactions-files/02.csv\",parse_dates=[0],date_format=\"%Y%m%d\",thousands=\",\")\n",
    "\n",
    "# rename columns\n",
    "transactions.rename(columns={\"transaction date\": \"date\", \"transaction description\": \"description\", \"detailed description\":\"detailed\", \"amount ($)\": \"amount\"}, inplace=True)\n",
    "\n",
    "# concatenate descriptions columns\n",
    "transactions[\"description\"]=transactions[\"description\"]+\" - \"+transactions[\"detailed\"]\n",
    "transactions.drop(\"detailed\", axis=1, inplace=True)\n",
    "\n",
    "print(transactions)"
   ]
  }
 ],
 "metadata": {
  "kernelspec": {
   "display_name": "Python 3 (ipykernel)",
   "language": "python",
   "name": "python3"
  },
  "language_info": {
   "codemirror_mode": {
    "name": "ipython",
    "version": 3
   },
   "file_extension": ".py",
   "mimetype": "text/x-python",
   "name": "python",
   "nbconvert_exporter": "python",
   "pygments_lexer": "ipython3",
   "version": "3.10.13"
  }
 },
 "nbformat": 4,
 "nbformat_minor": 4
}
